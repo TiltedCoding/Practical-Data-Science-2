{
 "cells": [
  {
   "cell_type": "markdown",
   "metadata": {
    "id": "4IhAjgg8oVc5"
   },
   "source": [
    "# PDS A2\n",
    "You will be shared ten files from coders who annotated verses from the 1st book of Iliad (no names shared). In each file there are the following columns: polarity (the sentiment the reader felt while reading the verse), emotions, hero (Homer narrating or a hero talking). The goal of this assignment is to build Machine Learning for automated sentiment annotation.  \n",
    "\n",
    "---"
   ]
  },
  {
   "cell_type": "markdown",
   "metadata": {},
   "source": [
    "### 1. Exploring the data.\n",
    "  * Address the missing values (and any outliers). \n",
    "  * Measure inter-annotator agreement in the *polarity* and *hero* columns.\n",
    "\n",
    "---"
   ]
  },
  {
   "cell_type": "code",
   "execution_count": 53,
   "metadata": {},
   "outputs": [],
   "source": [
    "# T1\n",
    "import os\n",
    "import pandas as pd\n",
    "import numpy as np\n",
    "import warnings\n",
    "from sklearn.metrics import cohen_kappa_score as kappa\n",
    "from itertools import combinations as com"
   ]
  },
  {
   "cell_type": "code",
   "execution_count": 54,
   "outputs": [],
   "source": [
    "warnings.filterwarnings(\"ignore\") # Filter Warnings since it keeps giving warnings when dropping columns\n",
    "path= r'C:..\\IB1-annotated'\n",
    "files = os.listdir(path) # Get the files from the path"
   ],
   "metadata": {
    "collapsed": false,
    "pycharm": {
     "name": "#%%\n"
    }
   }
  },
  {
   "cell_type": "code",
   "execution_count": 55,
   "outputs": [
    {
     "name": "stdout",
     "output_type": "stream",
     "text": [
      "['3150014.xlsx', '3252107.xlsx', '3252108.xlsx', '3252113.xlsx', '335201.xlsx', '3352106.xlsx', '3352114.xlsx', '3352115.xlsx', '3352116.xlsx', '3352119.xlsx']\n"
     ]
    },
    {
     "data": {
      "text/plain": "                                                 verse    polarity  \\\n0    Τη μάνητα, θεά, τραγούδα μας του ξακουστού Αχι...    positive   \n1    ανάθεμα τη, πίκρες που 'δωκε στους Αχαιούς περ...    negative   \n2    και πλήθος αντρειωμένες έστειλε ψυχές στον Άδη...    negative   \n3    παλικαριών, στους σκύλους ρίχνοντας να φάνε τα...    negative   \n4    και στα όρνια ολούθε —έτσι το θέλησε να γίνει ...  no emotion   \n..                                                 ...         ...   \n584  κει που 'χε χτίσει στον καθένα τους παλάτι ο κ...    positive   \n585  ο ξακουστός τεχνίτης Ήφαιστος, με τη σοφή του ...    positive   \n586  Κι ο Δίας ο Ολύμπιος, ό αστραπόχαρος, στην κλί...    positive   \n587  εκεί που ως τώρα πάντα, ως του 'ρχονταν ύπνος ...    positive   \n588  κει πάνω ανέβη, κι η χρυσόθρονη σιμά του επλάγ...    positive   \n\n            emotions hero       ID Unnamed: 4  Unnamed: 5  Unnamed: 6  \\\n0         admiration  NaN  3150014        NaN         NaN         NaN   \n1               pain  NaN  3150014        NaN         NaN         NaN   \n2                awe  NaN  3150014        NaN         NaN         NaN   \n3               fear  NaN  3150014        NaN         NaN         NaN   \n4    acknowledgement  NaN  3150014        NaN         NaN         NaN   \n..               ...  ...      ...        ...         ...         ...   \n584              joy  NaN  3352119        NaN         NaN         NaN   \n585          respect  NaN  3352119        NaN         NaN         NaN   \n586          respect  NaN  3352119        NaN         NaN         NaN   \n587              joy  NaN  3352119        NaN         NaN         NaN   \n588             hope  NaN  3352119        NaN         NaN         NaN   \n\n     Unnamed: 7  \n0           NaN  \n1           NaN  \n2           NaN  \n3           NaN  \n4           NaN  \n..          ...  \n584         NaN  \n585         NaN  \n586         NaN  \n587         NaN  \n588         NaN  \n\n[5890 rows x 9 columns]",
      "text/html": "<div>\n<style scoped>\n    .dataframe tbody tr th:only-of-type {\n        vertical-align: middle;\n    }\n\n    .dataframe tbody tr th {\n        vertical-align: top;\n    }\n\n    .dataframe thead th {\n        text-align: right;\n    }\n</style>\n<table border=\"1\" class=\"dataframe\">\n  <thead>\n    <tr style=\"text-align: right;\">\n      <th></th>\n      <th>verse</th>\n      <th>polarity</th>\n      <th>emotions</th>\n      <th>hero</th>\n      <th>ID</th>\n      <th>Unnamed: 4</th>\n      <th>Unnamed: 5</th>\n      <th>Unnamed: 6</th>\n      <th>Unnamed: 7</th>\n    </tr>\n  </thead>\n  <tbody>\n    <tr>\n      <th>0</th>\n      <td>Τη μάνητα, θεά, τραγούδα μας του ξακουστού Αχι...</td>\n      <td>positive</td>\n      <td>admiration</td>\n      <td>NaN</td>\n      <td>3150014</td>\n      <td>NaN</td>\n      <td>NaN</td>\n      <td>NaN</td>\n      <td>NaN</td>\n    </tr>\n    <tr>\n      <th>1</th>\n      <td>ανάθεμα τη, πίκρες που 'δωκε στους Αχαιούς περ...</td>\n      <td>negative</td>\n      <td>pain</td>\n      <td>NaN</td>\n      <td>3150014</td>\n      <td>NaN</td>\n      <td>NaN</td>\n      <td>NaN</td>\n      <td>NaN</td>\n    </tr>\n    <tr>\n      <th>2</th>\n      <td>και πλήθος αντρειωμένες έστειλε ψυχές στον Άδη...</td>\n      <td>negative</td>\n      <td>awe</td>\n      <td>NaN</td>\n      <td>3150014</td>\n      <td>NaN</td>\n      <td>NaN</td>\n      <td>NaN</td>\n      <td>NaN</td>\n    </tr>\n    <tr>\n      <th>3</th>\n      <td>παλικαριών, στους σκύλους ρίχνοντας να φάνε τα...</td>\n      <td>negative</td>\n      <td>fear</td>\n      <td>NaN</td>\n      <td>3150014</td>\n      <td>NaN</td>\n      <td>NaN</td>\n      <td>NaN</td>\n      <td>NaN</td>\n    </tr>\n    <tr>\n      <th>4</th>\n      <td>και στα όρνια ολούθε —έτσι το θέλησε να γίνει ...</td>\n      <td>no emotion</td>\n      <td>acknowledgement</td>\n      <td>NaN</td>\n      <td>3150014</td>\n      <td>NaN</td>\n      <td>NaN</td>\n      <td>NaN</td>\n      <td>NaN</td>\n    </tr>\n    <tr>\n      <th>...</th>\n      <td>...</td>\n      <td>...</td>\n      <td>...</td>\n      <td>...</td>\n      <td>...</td>\n      <td>...</td>\n      <td>...</td>\n      <td>...</td>\n      <td>...</td>\n    </tr>\n    <tr>\n      <th>584</th>\n      <td>κει που 'χε χτίσει στον καθένα τους παλάτι ο κ...</td>\n      <td>positive</td>\n      <td>joy</td>\n      <td>NaN</td>\n      <td>3352119</td>\n      <td>NaN</td>\n      <td>NaN</td>\n      <td>NaN</td>\n      <td>NaN</td>\n    </tr>\n    <tr>\n      <th>585</th>\n      <td>ο ξακουστός τεχνίτης Ήφαιστος, με τη σοφή του ...</td>\n      <td>positive</td>\n      <td>respect</td>\n      <td>NaN</td>\n      <td>3352119</td>\n      <td>NaN</td>\n      <td>NaN</td>\n      <td>NaN</td>\n      <td>NaN</td>\n    </tr>\n    <tr>\n      <th>586</th>\n      <td>Κι ο Δίας ο Ολύμπιος, ό αστραπόχαρος, στην κλί...</td>\n      <td>positive</td>\n      <td>respect</td>\n      <td>NaN</td>\n      <td>3352119</td>\n      <td>NaN</td>\n      <td>NaN</td>\n      <td>NaN</td>\n      <td>NaN</td>\n    </tr>\n    <tr>\n      <th>587</th>\n      <td>εκεί που ως τώρα πάντα, ως του 'ρχονταν ύπνος ...</td>\n      <td>positive</td>\n      <td>joy</td>\n      <td>NaN</td>\n      <td>3352119</td>\n      <td>NaN</td>\n      <td>NaN</td>\n      <td>NaN</td>\n      <td>NaN</td>\n    </tr>\n    <tr>\n      <th>588</th>\n      <td>κει πάνω ανέβη, κι η χρυσόθρονη σιμά του επλάγ...</td>\n      <td>positive</td>\n      <td>hope</td>\n      <td>NaN</td>\n      <td>3352119</td>\n      <td>NaN</td>\n      <td>NaN</td>\n      <td>NaN</td>\n      <td>NaN</td>\n    </tr>\n  </tbody>\n</table>\n<p>5890 rows × 9 columns</p>\n</div>"
     },
     "execution_count": 55,
     "metadata": {},
     "output_type": "execute_result"
    }
   ],
   "source": [
    "filenames = [f for f in files if f[-4:] == 'xlsx'] # Choose only excel files. reference: https://stackoverflow.com/questions/56423421/read-all-xlsx-files-in-a-folder-and-save-the-files-in-different-dataframes answer by PirateNinjas\n",
    "print(filenames)\n",
    "os.chdir(path) # Change Directory so that it can read the excel files.\n",
    "coders = pd.DataFrame() # Initiate the Data Frame\n",
    "for f in filenames:\n",
    "    df = pd.read_excel(f, sheet_name='annotation') #Make sure to read from the annotation sheet.\n",
    "    df['ID'] = int(f[0:-5])\n",
    "    coders = coders.append(df) # Create the Data Frame\n",
    "coders"
   ],
   "metadata": {
    "collapsed": false,
    "pycharm": {
     "name": "#%%\n"
    }
   }
  },
  {
   "cell_type": "code",
   "execution_count": 56,
   "outputs": [
    {
     "name": "stdout",
     "output_type": "stream",
     "text": [
      "[nan 'CHRISIS' 'Kalhas' 'Hrisis' 'Muse' 'Calchas'] [nan] [nan] [nan]\n"
     ]
    }
   ],
   "source": [
    "print(coders['Unnamed: 4'].unique(), coders['Unnamed: 5'].unique(), coders['Unnamed: 6'].unique(), coders['Unnamed: 7'].unique())"
   ],
   "metadata": {
    "collapsed": false,
    "pycharm": {
     "name": "#%%\n"
    }
   }
  },
  {
   "cell_type": "code",
   "execution_count": 57,
   "outputs": [
    {
     "data": {
      "text/plain": "                                                 verse    polarity  \\\n0    Τη μάνητα, θεά, τραγούδα μας του ξακουστού Αχι...    positive   \n1    ανάθεμα τη, πίκρες που 'δωκε στους Αχαιούς περ...    negative   \n2    και πλήθος αντρειωμένες έστειλε ψυχές στον Άδη...    negative   \n3    παλικαριών, στους σκύλους ρίχνοντας να φάνε τα...    negative   \n4    και στα όρνια ολούθε —έτσι το θέλησε να γίνει ...  no emotion   \n..                                                 ...         ...   \n584  κει που 'χε χτίσει στον καθένα τους παλάτι ο κ...    positive   \n585  ο ξακουστός τεχνίτης Ήφαιστος, με τη σοφή του ...    positive   \n586  Κι ο Δίας ο Ολύμπιος, ό αστραπόχαρος, στην κλί...    positive   \n587  εκεί που ως τώρα πάντα, ως του 'ρχονταν ύπνος ...    positive   \n588  κει πάνω ανέβη, κι η χρυσόθρονη σιμά του επλάγ...    positive   \n\n            emotions hero       ID Unnamed: 4  \n0         admiration  NaN  3150014        NaN  \n1               pain  NaN  3150014        NaN  \n2                awe  NaN  3150014        NaN  \n3               fear  NaN  3150014        NaN  \n4    acknowledgement  NaN  3150014        NaN  \n..               ...  ...      ...        ...  \n584              joy  NaN  3352119        NaN  \n585          respect  NaN  3352119        NaN  \n586          respect  NaN  3352119        NaN  \n587              joy  NaN  3352119        NaN  \n588             hope  NaN  3352119        NaN  \n\n[5890 rows x 6 columns]",
      "text/html": "<div>\n<style scoped>\n    .dataframe tbody tr th:only-of-type {\n        vertical-align: middle;\n    }\n\n    .dataframe tbody tr th {\n        vertical-align: top;\n    }\n\n    .dataframe thead th {\n        text-align: right;\n    }\n</style>\n<table border=\"1\" class=\"dataframe\">\n  <thead>\n    <tr style=\"text-align: right;\">\n      <th></th>\n      <th>verse</th>\n      <th>polarity</th>\n      <th>emotions</th>\n      <th>hero</th>\n      <th>ID</th>\n      <th>Unnamed: 4</th>\n    </tr>\n  </thead>\n  <tbody>\n    <tr>\n      <th>0</th>\n      <td>Τη μάνητα, θεά, τραγούδα μας του ξακουστού Αχι...</td>\n      <td>positive</td>\n      <td>admiration</td>\n      <td>NaN</td>\n      <td>3150014</td>\n      <td>NaN</td>\n    </tr>\n    <tr>\n      <th>1</th>\n      <td>ανάθεμα τη, πίκρες που 'δωκε στους Αχαιούς περ...</td>\n      <td>negative</td>\n      <td>pain</td>\n      <td>NaN</td>\n      <td>3150014</td>\n      <td>NaN</td>\n    </tr>\n    <tr>\n      <th>2</th>\n      <td>και πλήθος αντρειωμένες έστειλε ψυχές στον Άδη...</td>\n      <td>negative</td>\n      <td>awe</td>\n      <td>NaN</td>\n      <td>3150014</td>\n      <td>NaN</td>\n    </tr>\n    <tr>\n      <th>3</th>\n      <td>παλικαριών, στους σκύλους ρίχνοντας να φάνε τα...</td>\n      <td>negative</td>\n      <td>fear</td>\n      <td>NaN</td>\n      <td>3150014</td>\n      <td>NaN</td>\n    </tr>\n    <tr>\n      <th>4</th>\n      <td>και στα όρνια ολούθε —έτσι το θέλησε να γίνει ...</td>\n      <td>no emotion</td>\n      <td>acknowledgement</td>\n      <td>NaN</td>\n      <td>3150014</td>\n      <td>NaN</td>\n    </tr>\n    <tr>\n      <th>...</th>\n      <td>...</td>\n      <td>...</td>\n      <td>...</td>\n      <td>...</td>\n      <td>...</td>\n      <td>...</td>\n    </tr>\n    <tr>\n      <th>584</th>\n      <td>κει που 'χε χτίσει στον καθένα τους παλάτι ο κ...</td>\n      <td>positive</td>\n      <td>joy</td>\n      <td>NaN</td>\n      <td>3352119</td>\n      <td>NaN</td>\n    </tr>\n    <tr>\n      <th>585</th>\n      <td>ο ξακουστός τεχνίτης Ήφαιστος, με τη σοφή του ...</td>\n      <td>positive</td>\n      <td>respect</td>\n      <td>NaN</td>\n      <td>3352119</td>\n      <td>NaN</td>\n    </tr>\n    <tr>\n      <th>586</th>\n      <td>Κι ο Δίας ο Ολύμπιος, ό αστραπόχαρος, στην κλί...</td>\n      <td>positive</td>\n      <td>respect</td>\n      <td>NaN</td>\n      <td>3352119</td>\n      <td>NaN</td>\n    </tr>\n    <tr>\n      <th>587</th>\n      <td>εκεί που ως τώρα πάντα, ως του 'ρχονταν ύπνος ...</td>\n      <td>positive</td>\n      <td>joy</td>\n      <td>NaN</td>\n      <td>3352119</td>\n      <td>NaN</td>\n    </tr>\n    <tr>\n      <th>588</th>\n      <td>κει πάνω ανέβη, κι η χρυσόθρονη σιμά του επλάγ...</td>\n      <td>positive</td>\n      <td>hope</td>\n      <td>NaN</td>\n      <td>3352119</td>\n      <td>NaN</td>\n    </tr>\n  </tbody>\n</table>\n<p>5890 rows × 6 columns</p>\n</div>"
     },
     "execution_count": 57,
     "metadata": {},
     "output_type": "execute_result"
    }
   ],
   "source": [
    "coders.drop(['Unnamed: 5', 'Unnamed: 6', 'Unnamed: 7'], axis=1, inplace=True)\n",
    "coders"
   ],
   "metadata": {
    "collapsed": false,
    "pycharm": {
     "name": "#%%\n"
    }
   }
  },
  {
   "cell_type": "code",
   "execution_count": 58,
   "outputs": [
    {
     "name": "stdout",
     "output_type": "stream",
     "text": [
      "[nan 'Chryses' 'Agamemnon' 'Achilleus' 'Kalhas' 'Athena' 'Nestor' 'Thetis'\n",
      " 'Odysseus' 'Zeus' 'Hera' 'Hephaestus' 'Apollo' 'Patroclus' 'Homer'\n",
      " 'Chrysis' 'Kalchas' 'Calchas' 'Menelaus' 'Andromache' 'Antenor' 'Phobos'\n",
      " 'Iris' 'Briseis']\n"
     ]
    }
   ],
   "source": [
    "print(coders['hero'].unique())"
   ],
   "metadata": {
    "collapsed": false,
    "pycharm": {
     "name": "#%%\n"
    }
   }
  },
  {
   "cell_type": "code",
   "execution_count": 59,
   "outputs": [
    {
     "data": {
      "text/plain": "1748"
     },
     "execution_count": 59,
     "metadata": {},
     "output_type": "execute_result"
    }
   ],
   "source": [
    "coders['hero'].isnull().sum()"
   ],
   "metadata": {
    "collapsed": false,
    "pycharm": {
     "name": "#%%\n"
    }
   }
  },
  {
   "cell_type": "code",
   "execution_count": 60,
   "outputs": [
    {
     "data": {
      "text/plain": "120"
     },
     "execution_count": 60,
     "metadata": {},
     "output_type": "execute_result"
    }
   ],
   "source": [
    "coders['Unnamed: 4'].notnull().sum()"
   ],
   "metadata": {
    "collapsed": false,
    "pycharm": {
     "name": "#%%\n"
    }
   }
  },
  {
   "cell_type": "code",
   "execution_count": 61,
   "outputs": [],
   "source": [
    "#for i in range(len(coders)):\n",
    "#if pd.isna(coders.hero[i]) and pd.notnull(coders['Unnamed: 4'][i]):  # reference: https://stackoverflow.com/questions/44877663/error-float-object-has-no-attribute-notnull answer by Max Kleiner\n",
    "#coders['hero'][i] = coders['Unnamed: 4'][i]\n",
    "\n",
    "coders.hero = np.where(coders.hero.isnull(), coders['Unnamed: 4'], coders.hero) # reference: https://stackoverflow.com/questions/30357276/how-to-pass-another-entire-column-as-argument-to-pandas-fillna answer by joris.\n",
    "coders.drop(['Unnamed: 4'], axis=1, inplace=True)"
   ],
   "metadata": {
    "collapsed": false,
    "pycharm": {
     "name": "#%%\n"
    }
   }
  },
  {
   "cell_type": "code",
   "execution_count": 62,
   "outputs": [
    {
     "data": {
      "text/plain": "1628"
     },
     "execution_count": 62,
     "metadata": {},
     "output_type": "execute_result"
    }
   ],
   "source": [
    "coders['hero'].isnull().sum()"
   ],
   "metadata": {
    "collapsed": false,
    "pycharm": {
     "name": "#%%\n"
    }
   }
  },
  {
   "cell_type": "code",
   "execution_count": 63,
   "outputs": [
    {
     "data": {
      "text/plain": "199"
     },
     "execution_count": 63,
     "metadata": {},
     "output_type": "execute_result"
    }
   ],
   "source": [
    "coders['polarity'].isnull().sum()"
   ],
   "metadata": {
    "collapsed": false,
    "pycharm": {
     "name": "#%%\n"
    }
   }
  },
  {
   "cell_type": "code",
   "execution_count": 64,
   "outputs": [
    {
     "data": {
      "text/plain": "0"
     },
     "execution_count": 64,
     "metadata": {},
     "output_type": "execute_result"
    }
   ],
   "source": [
    "coders.polarity.fillna('no emotions', inplace=True)\n",
    "coders.polarity.isnull().sum()"
   ],
   "metadata": {
    "collapsed": false,
    "pycharm": {
     "name": "#%%\n"
    }
   }
  },
  {
   "cell_type": "code",
   "execution_count": 65,
   "outputs": [
    {
     "data": {
      "text/plain": "1297"
     },
     "execution_count": 65,
     "metadata": {},
     "output_type": "execute_result"
    }
   ],
   "source": [
    "coders.emotions.isnull().sum()"
   ],
   "metadata": {
    "collapsed": false,
    "pycharm": {
     "name": "#%%\n"
    }
   }
  },
  {
   "cell_type": "code",
   "execution_count": 66,
   "outputs": [
    {
     "data": {
      "text/plain": "0"
     },
     "execution_count": 66,
     "metadata": {},
     "output_type": "execute_result"
    }
   ],
   "source": [
    "coders.emotions.fillna('neutral', inplace=True)\n",
    "coders.emotions.isnull().sum()"
   ],
   "metadata": {
    "collapsed": false,
    "pycharm": {
     "name": "#%%\n"
    }
   }
  },
  {
   "cell_type": "code",
   "execution_count": 67,
   "outputs": [
    {
     "data": {
      "text/plain": "array([nan, 'Chryses', 'Agamemnon', 'Achilleus', 'Kalhas', 'Athena',\n       'Nestor', 'Thetis', 'Odysseus', 'Zeus', 'Hera', 'Hephaestus',\n       'Apollo', 'Patroclus', 'Homer', 'Chrysis', 'Kalchas', 'Calchas',\n       'CHRISIS', 'Menelaus', 'Andromache', 'Hrisis', 'Antenor', 'Phobos',\n       'Iris', 'Briseis', 'Muse'], dtype=object)"
     },
     "execution_count": 67,
     "metadata": {},
     "output_type": "execute_result"
    }
   ],
   "source": [
    "coders.hero.unique()"
   ],
   "metadata": {
    "collapsed": false,
    "pycharm": {
     "name": "#%%\n"
    }
   }
  },
  {
   "cell_type": "code",
   "execution_count": 68,
   "outputs": [],
   "source": [
    "coders.hero.replace(['Chryses', 'CHRISIS', 'Hrisis', 'Chrisis', 'Kalchas', 'Kalhas'], ['Chryseis', 'Chrysis', 'Chrysis','Chrysis', 'Calchas', 'Calchas'], inplace=True)\n",
    "coders.hero.fillna('Homer', inplace=True)"
   ],
   "metadata": {
    "collapsed": false,
    "pycharm": {
     "name": "#%%\n"
    }
   }
  },
  {
   "cell_type": "code",
   "execution_count": 69,
   "outputs": [
    {
     "data": {
      "text/plain": "array(['Homer', 'Chryseis', 'Agamemnon', 'Achilleus', 'Calchas', 'Athena',\n       'Nestor', 'Thetis', 'Odysseus', 'Zeus', 'Hera', 'Hephaestus',\n       'Apollo', 'Patroclus', 'Chrysis', 'Menelaus', 'Andromache',\n       'Antenor', 'Phobos', 'Iris', 'Briseis', 'Muse'], dtype=object)"
     },
     "execution_count": 69,
     "metadata": {},
     "output_type": "execute_result"
    }
   ],
   "source": [
    "coders.hero.unique()"
   ],
   "metadata": {
    "collapsed": false,
    "pycharm": {
     "name": "#%%\n"
    }
   }
  },
  {
   "cell_type": "code",
   "execution_count": 70,
   "outputs": [],
   "source": [
    "coders.reset_index(inplace=True) # Reference on how to convert index into Column: https://datatofish.com/index-to-column-pandas-dataframe/"
   ],
   "metadata": {
    "collapsed": false,
    "pycharm": {
     "name": "#%%\n"
    }
   }
  },
  {
   "cell_type": "code",
   "execution_count": 71,
   "outputs": [],
   "source": [
    "coders.rename(columns = {'index' : 'verse_id'}, inplace=True)\n",
    "coders.set_index(['ID', 'verse_id'], inplace=True)"
   ],
   "metadata": {
    "collapsed": false,
    "pycharm": {
     "name": "#%%\n"
    }
   }
  },
  {
   "cell_type": "code",
   "execution_count": 72,
   "outputs": [
    {
     "data": {
      "text/plain": "                                                              verse  \\\nID      verse_id                                                      \n3150014 0         Τη μάνητα, θεά, τραγούδα μας του ξακουστού Αχι...   \n        1         ανάθεμα τη, πίκρες που 'δωκε στους Αχαιούς περ...   \n        2         και πλήθος αντρειωμένες έστειλε ψυχές στον Άδη...   \n        3         παλικαριών, στους σκύλους ρίχνοντας να φάνε τα...   \n        4         και στα όρνια ολούθε —έτσι το θέλησε να γίνει ...   \n...                                                             ...   \n3352119 584       κει που 'χε χτίσει στον καθένα τους παλάτι ο κ...   \n        585       ο ξακουστός τεχνίτης Ήφαιστος, με τη σοφή του ...   \n        586       Κι ο Δίας ο Ολύμπιος, ό αστραπόχαρος, στην κλί...   \n        587       εκεί που ως τώρα πάντα, ως του 'ρχονταν ύπνος ...   \n        588       κει πάνω ανέβη, κι η χρυσόθρονη σιμά του επλάγ...   \n\n                    polarity         emotions   hero  \nID      verse_id                                      \n3150014 0           positive       admiration  Homer  \n        1           negative             pain  Homer  \n        2           negative              awe  Homer  \n        3           negative             fear  Homer  \n        4         no emotion  acknowledgement  Homer  \n...                      ...              ...    ...  \n3352119 584         positive              joy  Homer  \n        585         positive          respect  Homer  \n        586         positive          respect  Homer  \n        587         positive              joy  Homer  \n        588         positive             hope  Homer  \n\n[5890 rows x 4 columns]",
      "text/html": "<div>\n<style scoped>\n    .dataframe tbody tr th:only-of-type {\n        vertical-align: middle;\n    }\n\n    .dataframe tbody tr th {\n        vertical-align: top;\n    }\n\n    .dataframe thead th {\n        text-align: right;\n    }\n</style>\n<table border=\"1\" class=\"dataframe\">\n  <thead>\n    <tr style=\"text-align: right;\">\n      <th></th>\n      <th></th>\n      <th>verse</th>\n      <th>polarity</th>\n      <th>emotions</th>\n      <th>hero</th>\n    </tr>\n    <tr>\n      <th>ID</th>\n      <th>verse_id</th>\n      <th></th>\n      <th></th>\n      <th></th>\n      <th></th>\n    </tr>\n  </thead>\n  <tbody>\n    <tr>\n      <th rowspan=\"5\" valign=\"top\">3150014</th>\n      <th>0</th>\n      <td>Τη μάνητα, θεά, τραγούδα μας του ξακουστού Αχι...</td>\n      <td>positive</td>\n      <td>admiration</td>\n      <td>Homer</td>\n    </tr>\n    <tr>\n      <th>1</th>\n      <td>ανάθεμα τη, πίκρες που 'δωκε στους Αχαιούς περ...</td>\n      <td>negative</td>\n      <td>pain</td>\n      <td>Homer</td>\n    </tr>\n    <tr>\n      <th>2</th>\n      <td>και πλήθος αντρειωμένες έστειλε ψυχές στον Άδη...</td>\n      <td>negative</td>\n      <td>awe</td>\n      <td>Homer</td>\n    </tr>\n    <tr>\n      <th>3</th>\n      <td>παλικαριών, στους σκύλους ρίχνοντας να φάνε τα...</td>\n      <td>negative</td>\n      <td>fear</td>\n      <td>Homer</td>\n    </tr>\n    <tr>\n      <th>4</th>\n      <td>και στα όρνια ολούθε —έτσι το θέλησε να γίνει ...</td>\n      <td>no emotion</td>\n      <td>acknowledgement</td>\n      <td>Homer</td>\n    </tr>\n    <tr>\n      <th>...</th>\n      <th>...</th>\n      <td>...</td>\n      <td>...</td>\n      <td>...</td>\n      <td>...</td>\n    </tr>\n    <tr>\n      <th rowspan=\"5\" valign=\"top\">3352119</th>\n      <th>584</th>\n      <td>κει που 'χε χτίσει στον καθένα τους παλάτι ο κ...</td>\n      <td>positive</td>\n      <td>joy</td>\n      <td>Homer</td>\n    </tr>\n    <tr>\n      <th>585</th>\n      <td>ο ξακουστός τεχνίτης Ήφαιστος, με τη σοφή του ...</td>\n      <td>positive</td>\n      <td>respect</td>\n      <td>Homer</td>\n    </tr>\n    <tr>\n      <th>586</th>\n      <td>Κι ο Δίας ο Ολύμπιος, ό αστραπόχαρος, στην κλί...</td>\n      <td>positive</td>\n      <td>respect</td>\n      <td>Homer</td>\n    </tr>\n    <tr>\n      <th>587</th>\n      <td>εκεί που ως τώρα πάντα, ως του 'ρχονταν ύπνος ...</td>\n      <td>positive</td>\n      <td>joy</td>\n      <td>Homer</td>\n    </tr>\n    <tr>\n      <th>588</th>\n      <td>κει πάνω ανέβη, κι η χρυσόθρονη σιμά του επλάγ...</td>\n      <td>positive</td>\n      <td>hope</td>\n      <td>Homer</td>\n    </tr>\n  </tbody>\n</table>\n<p>5890 rows × 4 columns</p>\n</div>"
     },
     "execution_count": 72,
     "metadata": {},
     "output_type": "execute_result"
    }
   ],
   "source": [
    "coders"
   ],
   "metadata": {
    "collapsed": false,
    "pycharm": {
     "name": "#%%\n"
    }
   }
  },
  {
   "cell_type": "code",
   "execution_count": 73,
   "outputs": [
    {
     "data": {
      "text/plain": "Int64Index([3150014, 3252107, 3252108, 3252113,  335201, 3352106, 3352114,\n            3352115, 3352116, 3352119],\n           dtype='int64', name='ID')"
     },
     "execution_count": 73,
     "metadata": {},
     "output_type": "execute_result"
    }
   ],
   "source": [
    "coders.index.get_level_values(0).unique()"
   ],
   "metadata": {
    "collapsed": false,
    "pycharm": {
     "name": "#%%\n"
    }
   }
  },
  {
   "cell_type": "code",
   "execution_count": 74,
   "outputs": [
    {
     "name": "stdout",
     "output_type": "stream",
     "text": [
      "3150014 with 3252107\n",
      "3150014 with 3252108\n",
      "3150014 with 3252113\n",
      "3150014 with 335201\n",
      "3150014 with 3352106\n",
      "3150014 with 3352114\n",
      "3150014 with 3352115\n",
      "3150014 with 3352116\n",
      "3150014 with 3352119\n",
      "3252107 with 3252108\n",
      "3252107 with 3252113\n",
      "3252107 with 335201\n",
      "3252107 with 3352106\n",
      "3252107 with 3352114\n",
      "3252107 with 3352115\n",
      "3252107 with 3352116\n",
      "3252107 with 3352119\n",
      "3252108 with 3252113\n",
      "3252108 with 335201\n",
      "3252108 with 3352106\n",
      "3252108 with 3352114\n",
      "3252108 with 3352115\n",
      "3252108 with 3352116\n",
      "3252108 with 3352119\n",
      "3252113 with 335201\n",
      "3252113 with 3352106\n",
      "3252113 with 3352114\n",
      "3252113 with 3352115\n",
      "3252113 with 3352116\n",
      "3252113 with 3352119\n",
      "335201 with 3352106\n",
      "335201 with 3352114\n",
      "335201 with 3352115\n",
      "335201 with 3352116\n",
      "335201 with 3352119\n",
      "3352106 with 3352114\n",
      "3352106 with 3352115\n",
      "3352106 with 3352116\n",
      "3352106 with 3352119\n",
      "3352114 with 3352115\n",
      "3352114 with 3352116\n",
      "3352114 with 3352119\n",
      "3352115 with 3352116\n",
      "3352115 with 3352119\n",
      "3352116 with 3352119\n"
     ]
    }
   ],
   "source": [
    "comb = list(com(coders.index.get_level_values(0).unique(), 2))\n",
    "for i in range(len(comb)):\n",
    "    print(comb[i][0], 'with' , comb[i][1])"
   ],
   "metadata": {
    "collapsed": false,
    "pycharm": {
     "name": "#%%\n"
    }
   }
  },
  {
   "cell_type": "code",
   "execution_count": 75,
   "outputs": [
    {
     "name": "stdout",
     "output_type": "stream",
     "text": [
      "Polarity Cohen kappa: 0.1416\n",
      "Hero Cohen kappa: 0.6925\n"
     ]
    }
   ],
   "source": [
    "k1 = []\n",
    "k2 = []\n",
    "for i in range (0, len(comb)):\n",
    "    k1.append(kappa(coders.loc[comb[i][0]].polarity, coders.loc[comb[i][1]].polarity))\n",
    "    k2.append(kappa(coders.loc[comb[i][0]].hero, coders.loc[comb[i][1]].hero))\n",
    "print(f'Polarity Cohen kappa: {np.mean(k1):.4f}\\nHero Cohen kappa: {np.mean(k2):.4f}')"
   ],
   "metadata": {
    "collapsed": false,
    "pycharm": {
     "name": "#%%\n"
    }
   }
  },
  {
   "cell_type": "code",
   "execution_count": null,
   "outputs": [],
   "source": [],
   "metadata": {
    "collapsed": false,
    "pycharm": {
     "name": "#%%\n"
    }
   }
  },
  {
   "cell_type": "markdown",
   "metadata": {},
   "source": [
    "### 2. Data preprocessing.\n",
    "  * Map the `polarity` (positive, negative, no emotion) to scores (respectively: 1, -1, 0). \n",
    "  * Perform a data exploratory analysis for `polarity` by visualising the class balance per annotator, and the variance per verse and per annotator. Combine `polarity` with `emotions` and `hero` to explore the data further (for example, one could study the aggregated sentiment-score per hero/narrator or the emotion distribution across the sentiment scores). Note that all figures should comply with the ten rules of visualisation that were taught in class. \n",
    "  * Suggest three findings (max: 50 words each) that will be based on the visualisations of your exploratory analysis.\n",
    "\n",
    "---"
   ]
  },
  {
   "cell_type": "code",
   "execution_count": null,
   "metadata": {},
   "outputs": [],
   "source": [
    "# T2"
   ]
  },
  {
   "cell_type": "markdown",
   "metadata": {},
   "source": [
    "\n",
    "### 3. Automated annotation.\n",
    " * Build baselines (at least one based on random guesses) and regressors (at least three sklearn-based) that will yield a score (from -1 to 1) estimating the reader's sentiment for an unseen verse. \n",
    " * Evaluate your models using mean absolute error (MAE) and mean square error (MSE). Turn the gold and predicted scores to classes (-1, 0, 1) and evaluate also using *proper* classification evaluation metrics.  \n",
    " * Diagnose and analyse any under/over fitting. \n",
    " * Announce a winner based on your evaluation and apply it in order to predict a label (not score) per verse on the 24th Iliad book that is given. Submit your predictions as a compressed CSV with the following title: `IB24.your-student-ID-number.csv.gz`, where `your-student-ID-number` will hold your student ID number). The submitted dataframe should comprise the verses in one column (exactly as the original), but it should also comprise another column to hold the aligned predictions. \n",
    "\n",
    " ---"
   ]
  },
  {
   "cell_type": "code",
   "execution_count": null,
   "metadata": {},
   "outputs": [],
   "source": [
    "# T3"
   ]
  },
  {
   "cell_type": "markdown",
   "metadata": {},
   "source": [
    "\n",
    "### 4. Scraping and silver labeling.\n",
    " * Scrape all the books of Iliad, by using this [translation from Project Gutenberg](https://www.gutenberg.org/cache/epub/36248/pg36248-images.html).\n",
    " * Use your best performing sentiment classifier from (3) to label the verses of all the 24 crawled books (silver labeling).  \n",
    " * Visualise the sentiment series resulted from the silver labels of all the books. \n",
    " * Evaluate your model's predictions for the 1st scraped book with the respective gold annotations (of the same book from T3, yet with a different translation), which you used to train your model."
   ]
  },
  {
   "cell_type": "code",
   "execution_count": null,
   "metadata": {},
   "outputs": [],
   "source": [
    "# T4"
   ]
  },
  {
   "cell_type": "markdown",
   "metadata": {},
   "source": [
    "###  BONUS:  \n",
    "\n",
    "Try to improve your best performing model, in order to better generalise. Your labels of the 24th will be compared against those of a quality annotator to evaluate your model. The top five scores will receive a bonus of 10%. \n",
    "\n",
    "---"
   ]
  },
  {
   "cell_type": "code",
   "execution_count": 3,
   "metadata": {},
   "outputs": [],
   "source": [
    "# Bonus coding..."
   ]
  },
  {
   "cell_type": "markdown",
   "metadata": {},
   "source": [
    "\n",
    "### Submission: \n",
    "* A zipped folder (only ZIP, not RAR), with your student ID number as name (e.g., f12345.zip), which will include the following files: \n",
    "  * The notebook with the tasks and the solutions, named as: `your-student-ID-number.ipynb`.\n",
    "  * The dataframe with the ground truth annotations from the second task (T2) named as: `IB1.your-student-ID-number.csv.gz`\n",
    "  * The predictions for the 24th book (from T3), named as: `IB24.your-student-ID-number.csv.gz`\n",
    "  * The dataframe with the silver annotations of all the scrapped books (from T4), using a long format and named as: `iliad_from_gutenberg.your-student-ID-number.csv.gz`\n",
    "\n",
    "### Evaluation criteria: \n",
    "  * The four tasks are equally weighted in terms of grades (25% each). \n",
    "  * With this assignment you are expected to do data preprocessing, exploratory analysis, train and evaluate machine learning models, employ (scraping and) visualisation as an analysis tool. \n",
    "  * The code cells that solve a task should follow the cell with the respective task description. Any textual analysis/description should exist in **text** cells (not in the source code) following the code cells that solve the related task. Use Jupyter's markdown-cell option to add text cells. \n",
    "  * If you borrow a solution that exists online, name the link you took it from and what you did to adapt it to your task. Detected plagiarism (esp. copying from a source without quoting and duplicate code between students) will lead to a zero grade.\n",
    "  * Your code should be well-structured and comments should explain as much as possible, to avoid misunderstandings during evaluation (points might be lost due to this).\n",
    "  * Everyone will be assessed by their written notebook, but if there are questions, some may be asked to explain in brief orally.\n",
    "\n",
    "---"
   ]
  }
 ],
 "metadata": {
  "colab": {
   "collapsed_sections": [],
   "name": "PDS2021-A2.ipynb",
   "provenance": []
  },
  "kernelspec": {
   "display_name": "Python 3",
   "language": "python",
   "name": "python3"
  },
  "language_info": {
   "codemirror_mode": {
    "name": "ipython",
    "version": 3
   },
   "file_extension": ".py",
   "mimetype": "text/x-python",
   "name": "python",
   "nbconvert_exporter": "python",
   "pygments_lexer": "ipython3",
   "version": "3.7.3"
  }
 },
 "nbformat": 4,
 "nbformat_minor": 1
}